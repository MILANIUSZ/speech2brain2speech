{
 "cells": [
  {
   "cell_type": "code",
   "execution_count": 1,
   "id": "1faf09b8",
   "metadata": {},
   "outputs": [],
   "source": [
    "import pandas as pd\n",
    "import numpy as np \n",
    "import numpy.matlib as matlib\n",
    "import scipy\n",
    "import scipy.signal\n",
    "import scipy.stats\n",
    "import scipy.io.wavfile\n",
    "import scipy.fftpack"
   ]
  },
  {
   "cell_type": "code",
   "execution_count": 7,
   "id": "4228d8ae",
   "metadata": {},
   "outputs": [
    {
     "ename": "ModuleNotFoundError",
     "evalue": "No module named 'MelFilterBank'",
     "output_type": "error",
     "traceback": [
      "\u001b[0;31m---------------------------------------------------------------------------\u001b[0m",
      "\u001b[0;31mModuleNotFoundError\u001b[0m                       Traceback (most recent call last)",
      "Cell \u001b[0;32mIn[7], line 2\u001b[0m\n\u001b[1;32m      1\u001b[0m \u001b[38;5;28;01mfrom\u001b[39;00m \u001b[38;5;21;01mpynwb\u001b[39;00m \u001b[38;5;28;01mimport\u001b[39;00m NWBHDF5IO\n\u001b[0;32m----> 2\u001b[0m \u001b[38;5;28;01mimport\u001b[39;00m \u001b[38;5;21;01mMelFilterBank\u001b[39;00m \u001b[38;5;28;01mas\u001b[39;00m \u001b[38;5;21;01mmel\u001b[39;00m\n",
      "\u001b[0;31mModuleNotFoundError\u001b[0m: No module named 'MelFilterBank'"
     ]
    }
   ],
   "source": [
    "from pynwb import NWBHDF5IO\n",
    "import MelFilterBank as mel"
   ]
  },
  {
   "cell_type": "code",
   "execution_count": 6,
   "id": "323a0a33",
   "metadata": {},
   "outputs": [
    {
     "name": "stdout",
     "output_type": "stream",
     "text": [
      "Collecting mel\n",
      "  Downloading mel-0.0.4.tar.gz (7.3 kB)\n",
      "  Preparing metadata (setup.py) ... \u001b[?25ldone\n",
      "\u001b[?25hBuilding wheels for collected packages: mel\n",
      "  Building wheel for mel (setup.py) ... \u001b[?25ldone\n",
      "\u001b[?25h  Created wheel for mel: filename=mel-0.0.4-py2.py3-none-any.whl size=6962 sha256=f90e4f873719da11f43ab60272ae6bddd1404e78fb92f551292e4051921f5052\n",
      "  Stored in directory: /root/.cache/pip/wheels/a2/36/5d/0afd66ea1e67780ed96ad7a0cd96f29932e7c1b196b59d89d2\n",
      "Successfully built mel\n",
      "Installing collected packages: mel\n",
      "Successfully installed mel-0.0.4\n",
      "\u001b[33mWARNING: Running pip as the 'root' user can result in broken permissions and conflicting behaviour with the system package manager. It is recommended to use a virtual environment instead: https://pip.pypa.io/warnings/venv\u001b[0m\u001b[33m\n",
      "\u001b[0mNote: you may need to restart the kernel to use updated packages.\n"
     ]
    }
   ],
   "source": []
  }
 ],
 "metadata": {
  "kernelspec": {
   "display_name": "Python 3 (ipykernel)",
   "language": "python",
   "name": "python3"
  },
  "language_info": {
   "codemirror_mode": {
    "name": "ipython",
    "version": 3
   },
   "file_extension": ".py",
   "mimetype": "text/x-python",
   "name": "python",
   "nbconvert_exporter": "python",
   "pygments_lexer": "ipython3",
   "version": "3.8.10"
  }
 },
 "nbformat": 4,
 "nbformat_minor": 5
}
