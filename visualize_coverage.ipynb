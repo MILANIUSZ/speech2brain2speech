{
 "cells": [
  {
   "cell_type": "code",
   "execution_count": 4,
   "id": "3dc102ad",
   "metadata": {},
   "outputs": [
    {
     "name": "stdout",
     "output_type": "stream",
     "text": [
      "Collecting pyvista\n",
      "  Downloading pyvista-0.38.1-py3-none-any.whl (1.6 MB)\n",
      "\u001b[2K     \u001b[90m━━━━━━━━━━━━━━━━━━━━━━━━━━━━━━━━━━━━━━━━\u001b[0m \u001b[32m1.6/1.6 MB\u001b[0m \u001b[31m9.3 MB/s\u001b[0m eta \u001b[36m0:00:00\u001b[0ma \u001b[36m0:00:01\u001b[0m\n",
      "\u001b[?25hRequirement already satisfied: numpy in /usr/local/lib/python3.8/dist-packages (from pyvista) (1.21.1)\n",
      "Collecting vtk\n",
      "  Downloading vtk-9.2.5-cp38-cp38-manylinux_2_17_x86_64.manylinux2014_x86_64.whl (79.3 MB)\n",
      "\u001b[2K     \u001b[90m━━━━━━━━━━━━━━━━━━━━━━━━━━━━━━━━━━━━━━━━\u001b[0m \u001b[32m79.3/79.3 MB\u001b[0m \u001b[31m9.5 MB/s\u001b[0m eta \u001b[36m0:00:00\u001b[0m:00:01\u001b[0m00:01\u001b[0m\n",
      "\u001b[?25hRequirement already satisfied: pillow in /usr/local/lib/python3.8/dist-packages (from pyvista) (9.4.0)\n",
      "Collecting scooby>=0.5.1\n",
      "  Downloading scooby-0.7.1-py3-none-any.whl (16 kB)\n",
      "Requirement already satisfied: pooch in /usr/local/lib/python3.8/dist-packages (from pyvista) (1.6.0)\n",
      "Collecting imageio\n",
      "  Downloading imageio-2.25.1-py3-none-any.whl (3.4 MB)\n",
      "\u001b[2K     \u001b[90m━━━━━━━━━━━━━━━━━━━━━━━━━━━━━━━━━━━━━━━━\u001b[0m \u001b[32m3.4/3.4 MB\u001b[0m \u001b[31m11.8 MB/s\u001b[0m eta \u001b[36m0:00:00\u001b[0m00:01\u001b[0m00:01\u001b[0m\n",
      "\u001b[?25hRequirement already satisfied: appdirs>=1.3.0 in /usr/local/lib/python3.8/dist-packages (from pooch->pyvista) (1.4.4)\n",
      "Requirement already satisfied: requests>=2.19.0 in /usr/local/lib/python3.8/dist-packages (from pooch->pyvista) (2.28.2)\n",
      "Requirement already satisfied: packaging>=20.0 in /usr/local/lib/python3.8/dist-packages (from pooch->pyvista) (22.0)\n",
      "Requirement already satisfied: matplotlib>=2.0.0 in /usr/local/lib/python3.8/dist-packages (from vtk->pyvista) (3.6.3)\n",
      "Requirement already satisfied: fonttools>=4.22.0 in /usr/local/lib/python3.8/dist-packages (from matplotlib>=2.0.0->vtk->pyvista) (4.38.0)\n",
      "Requirement already satisfied: python-dateutil>=2.7 in /usr/local/lib/python3.8/dist-packages (from matplotlib>=2.0.0->vtk->pyvista) (2.8.2)\n",
      "Requirement already satisfied: pyparsing>=2.2.1 in /usr/local/lib/python3.8/dist-packages (from matplotlib>=2.0.0->vtk->pyvista) (3.0.9)\n",
      "Requirement already satisfied: kiwisolver>=1.0.1 in /usr/local/lib/python3.8/dist-packages (from matplotlib>=2.0.0->vtk->pyvista) (1.4.4)\n",
      "Requirement already satisfied: contourpy>=1.0.1 in /usr/local/lib/python3.8/dist-packages (from matplotlib>=2.0.0->vtk->pyvista) (1.0.7)\n",
      "Requirement already satisfied: cycler>=0.10 in /usr/local/lib/python3.8/dist-packages (from matplotlib>=2.0.0->vtk->pyvista) (0.11.0)\n",
      "Requirement already satisfied: urllib3<1.27,>=1.21.1 in /usr/local/lib/python3.8/dist-packages (from requests>=2.19.0->pooch->pyvista) (1.26.13)\n",
      "Requirement already satisfied: charset-normalizer<4,>=2 in /usr/local/lib/python3.8/dist-packages (from requests>=2.19.0->pooch->pyvista) (2.1.1)\n",
      "Requirement already satisfied: idna<4,>=2.5 in /usr/local/lib/python3.8/dist-packages (from requests>=2.19.0->pooch->pyvista) (3.4)\n",
      "Requirement already satisfied: certifi>=2017.4.17 in /usr/local/lib/python3.8/dist-packages (from requests>=2.19.0->pooch->pyvista) (2022.12.7)\n",
      "Requirement already satisfied: six>=1.5 in /usr/local/lib/python3.8/dist-packages (from python-dateutil>=2.7->matplotlib>=2.0.0->vtk->pyvista) (1.15.0)\n",
      "Installing collected packages: scooby, imageio, vtk, pyvista\n",
      "Successfully installed imageio-2.25.1 pyvista-0.38.1 scooby-0.7.1 vtk-9.2.5\n",
      "\u001b[33mWARNING: Running pip as the 'root' user can result in broken permissions and conflicting behaviour with the system package manager. It is recommended to use a virtual environment instead: https://pip.pypa.io/warnings/venv\u001b[0m\u001b[33m\n",
      "\u001b[0mNote: you may need to restart the kernel to use updated packages.\n"
     ]
    }
   ],
   "source": [
    "pip install pyvista"
   ]
  },
  {
   "cell_type": "code",
   "execution_count": 1,
   "id": "laden-birmingham",
   "metadata": {},
   "outputs": [
    {
     "ename": "ImportError",
     "evalue": "libGL.so.1: cannot open shared object file: No such file or directory",
     "output_type": "error",
     "traceback": [
      "\u001b[0;31m---------------------------------------------------------------------------\u001b[0m",
      "\u001b[0;31mImportError\u001b[0m                               Traceback (most recent call last)",
      "Cell \u001b[0;32mIn[1], line 9\u001b[0m\n\u001b[1;32m      5\u001b[0m \u001b[38;5;28;01mimport\u001b[39;00m \u001b[38;5;21;01mmne_bids\u001b[39;00m\n\u001b[1;32m      6\u001b[0m \u001b[38;5;28;01mimport\u001b[39;00m \u001b[38;5;21;01mnibabel\u001b[39;00m\n\u001b[0;32m----> 9\u001b[0m \u001b[43mmne\u001b[49m\u001b[38;5;241;43m.\u001b[39;49m\u001b[43mviz\u001b[49m\u001b[38;5;241;43m.\u001b[39;49m\u001b[43mset_3d_backend\u001b[49m\u001b[43m(\u001b[49m\u001b[38;5;124;43m'\u001b[39;49m\u001b[38;5;124;43mnotebook\u001b[39;49m\u001b[38;5;124;43m'\u001b[39;49m\u001b[43m)\u001b[49m\n\u001b[1;32m     10\u001b[0m get_ipython()\u001b[38;5;241m.\u001b[39mrun_line_magic(\u001b[38;5;124m'\u001b[39m\u001b[38;5;124mmatplotlib\u001b[39m\u001b[38;5;124m'\u001b[39m, \u001b[38;5;124m'\u001b[39m\u001b[38;5;124mqt\u001b[39m\u001b[38;5;124m'\u001b[39m)\n",
      "File \u001b[0;32m<decorator-gen-167>:12\u001b[0m, in \u001b[0;36mset_3d_backend\u001b[0;34m(backend_name, verbose)\u001b[0m\n",
      "File \u001b[0;32m/usr/local/lib/python3.8/dist-packages/mne/viz/backends/renderer.py:130\u001b[0m, in \u001b[0;36mset_3d_backend\u001b[0;34m(backend_name, verbose)\u001b[0m\n\u001b[1;32m    128\u001b[0m backend_name \u001b[38;5;241m=\u001b[39m _check_3d_backend_name(backend_name)\n\u001b[1;32m    129\u001b[0m \u001b[38;5;28;01mif\u001b[39;00m MNE_3D_BACKEND \u001b[38;5;241m!=\u001b[39m backend_name:\n\u001b[0;32m--> 130\u001b[0m     \u001b[43m_reload_backend\u001b[49m\u001b[43m(\u001b[49m\u001b[43mbackend_name\u001b[49m\u001b[43m)\u001b[49m\n\u001b[1;32m    131\u001b[0m     MNE_3D_BACKEND \u001b[38;5;241m=\u001b[39m backend_name\n\u001b[1;32m    132\u001b[0m \u001b[38;5;28;01mreturn\u001b[39;00m old_backend_name\n",
      "File \u001b[0;32m/usr/local/lib/python3.8/dist-packages/mne/viz/backends/renderer.py:32\u001b[0m, in \u001b[0;36m_reload_backend\u001b[0;34m(backend_name)\u001b[0m\n\u001b[1;32m     30\u001b[0m \u001b[38;5;28;01mdef\u001b[39;00m \u001b[38;5;21m_reload_backend\u001b[39m(backend_name):\n\u001b[1;32m     31\u001b[0m     \u001b[38;5;28;01mglobal\u001b[39;00m backend\n\u001b[0;32m---> 32\u001b[0m     backend \u001b[38;5;241m=\u001b[39m \u001b[43mimportlib\u001b[49m\u001b[38;5;241;43m.\u001b[39;49m\u001b[43mimport_module\u001b[49m\u001b[43m(\u001b[49m\u001b[43mname\u001b[49m\u001b[38;5;241;43m=\u001b[39;49m\u001b[43m_backend_name_map\u001b[49m\u001b[43m[\u001b[49m\u001b[43mbackend_name\u001b[49m\u001b[43m]\u001b[49m\u001b[43m,\u001b[49m\n\u001b[1;32m     33\u001b[0m \u001b[43m                                      \u001b[49m\u001b[43mpackage\u001b[49m\u001b[38;5;241;43m=\u001b[39;49m\u001b[38;5;124;43m'\u001b[39;49m\u001b[38;5;124;43mmne.viz.backends\u001b[39;49m\u001b[38;5;124;43m'\u001b[39;49m\u001b[43m)\u001b[49m\n\u001b[1;32m     34\u001b[0m     logger\u001b[38;5;241m.\u001b[39minfo(\u001b[38;5;124m'\u001b[39m\u001b[38;5;124mUsing \u001b[39m\u001b[38;5;132;01m%s\u001b[39;00m\u001b[38;5;124m 3d backend.\u001b[39m\u001b[38;5;130;01m\\n\u001b[39;00m\u001b[38;5;124m'\u001b[39m \u001b[38;5;241m%\u001b[39m backend_name)\n",
      "File \u001b[0;32m/usr/lib/python3.8/importlib/__init__.py:127\u001b[0m, in \u001b[0;36mimport_module\u001b[0;34m(name, package)\u001b[0m\n\u001b[1;32m    125\u001b[0m             \u001b[38;5;28;01mbreak\u001b[39;00m\n\u001b[1;32m    126\u001b[0m         level \u001b[38;5;241m+\u001b[39m\u001b[38;5;241m=\u001b[39m \u001b[38;5;241m1\u001b[39m\n\u001b[0;32m--> 127\u001b[0m \u001b[38;5;28;01mreturn\u001b[39;00m \u001b[43m_bootstrap\u001b[49m\u001b[38;5;241;43m.\u001b[39;49m\u001b[43m_gcd_import\u001b[49m\u001b[43m(\u001b[49m\u001b[43mname\u001b[49m\u001b[43m[\u001b[49m\u001b[43mlevel\u001b[49m\u001b[43m:\u001b[49m\u001b[43m]\u001b[49m\u001b[43m,\u001b[49m\u001b[43m \u001b[49m\u001b[43mpackage\u001b[49m\u001b[43m,\u001b[49m\u001b[43m \u001b[49m\u001b[43mlevel\u001b[49m\u001b[43m)\u001b[49m\n",
      "File \u001b[0;32m<frozen importlib._bootstrap>:1014\u001b[0m, in \u001b[0;36m_gcd_import\u001b[0;34m(name, package, level)\u001b[0m\n",
      "File \u001b[0;32m<frozen importlib._bootstrap>:991\u001b[0m, in \u001b[0;36m_find_and_load\u001b[0;34m(name, import_)\u001b[0m\n",
      "File \u001b[0;32m<frozen importlib._bootstrap>:975\u001b[0m, in \u001b[0;36m_find_and_load_unlocked\u001b[0;34m(name, import_)\u001b[0m\n",
      "File \u001b[0;32m<frozen importlib._bootstrap>:671\u001b[0m, in \u001b[0;36m_load_unlocked\u001b[0;34m(spec)\u001b[0m\n",
      "File \u001b[0;32m<frozen importlib._bootstrap_external>:848\u001b[0m, in \u001b[0;36mexec_module\u001b[0;34m(self, module)\u001b[0m\n",
      "File \u001b[0;32m<frozen importlib._bootstrap>:219\u001b[0m, in \u001b[0;36m_call_with_frames_removed\u001b[0;34m(f, *args, **kwds)\u001b[0m\n",
      "File \u001b[0;32m/usr/local/lib/python3.8/dist-packages/mne/viz/backends/_notebook.py:36\u001b[0m\n\u001b[1;32m     21\u001b[0m \u001b[38;5;28;01mfrom\u001b[39;00m \u001b[38;5;21;01m.\u001b[39;00m\u001b[38;5;21;01m_abstract\u001b[39;00m \u001b[38;5;28;01mimport\u001b[39;00m (_AbstractAppWindow, _AbstractHBoxLayout,\n\u001b[1;32m     22\u001b[0m                         _AbstractVBoxLayout, _AbstractGridLayout,\n\u001b[1;32m     23\u001b[0m                         _AbstractWidget, _AbstractCanvas,\n\u001b[0;32m   (...)\u001b[0m\n\u001b[1;32m     28\u001b[0m                         _AbstractText, _AbstractFileButton,\n\u001b[1;32m     29\u001b[0m                         _AbstractPlayMenu, _AbstractProgressBar)\n\u001b[1;32m     30\u001b[0m \u001b[38;5;28;01mfrom\u001b[39;00m \u001b[38;5;21;01m.\u001b[39;00m\u001b[38;5;21;01m_abstract\u001b[39;00m \u001b[38;5;28;01mimport\u001b[39;00m (_AbstractDock, _AbstractToolBar, _AbstractMenuBar,\n\u001b[1;32m     31\u001b[0m                         _AbstractStatusBar, _AbstractLayout, _AbstractWdgt,\n\u001b[1;32m     32\u001b[0m                         _AbstractWindow, _AbstractMplCanvas, _AbstractPlayback,\n\u001b[1;32m     33\u001b[0m                         _AbstractBrainMplCanvas, _AbstractMplInterface,\n\u001b[1;32m     34\u001b[0m                         _AbstractWidgetList, _AbstractAction, _AbstractDialog,\n\u001b[1;32m     35\u001b[0m                         _AbstractKeyPress)\n\u001b[0;32m---> 36\u001b[0m \u001b[38;5;28;01mfrom\u001b[39;00m \u001b[38;5;21;01m.\u001b[39;00m\u001b[38;5;21;01m_pyvista\u001b[39;00m \u001b[38;5;28;01mimport\u001b[39;00m _PyVistaRenderer, Plotter\n\u001b[1;32m     37\u001b[0m \u001b[38;5;28;01mfrom\u001b[39;00m \u001b[38;5;21;01m.\u001b[39;00m\u001b[38;5;21;01m_pyvista\u001b[39;00m \u001b[38;5;28;01mimport\u001b[39;00m (_close_3d_figure, _check_3d_figure, _close_all,  \u001b[38;5;66;03m# noqa: F401,E501 analysis:ignore\u001b[39;00m\n\u001b[1;32m     38\u001b[0m                        _set_3d_view, _set_3d_title, _take_3d_screenshot)  \u001b[38;5;66;03m# noqa: F401,E501 analysis:ignore\u001b[39;00m\n\u001b[1;32m     39\u001b[0m \u001b[38;5;28;01mfrom\u001b[39;00m \u001b[38;5;21;01m.\u001b[39;00m\u001b[38;5;21;01m_utils\u001b[39;00m \u001b[38;5;28;01mimport\u001b[39;00m _notebook_vtk_works\n",
      "File \u001b[0;32m/usr/local/lib/python3.8/dist-packages/mne/viz/backends/_pyvista.py:34\u001b[0m\n\u001b[1;32m     32\u001b[0m \u001b[38;5;28;01mwith\u001b[39;00m warnings\u001b[38;5;241m.\u001b[39mcatch_warnings():\n\u001b[1;32m     33\u001b[0m     warnings\u001b[38;5;241m.\u001b[39mfilterwarnings(\u001b[38;5;124m\"\u001b[39m\u001b[38;5;124mignore\u001b[39m\u001b[38;5;124m\"\u001b[39m, category\u001b[38;5;241m=\u001b[39m\u001b[38;5;167;01mDeprecationWarning\u001b[39;00m)\n\u001b[0;32m---> 34\u001b[0m     \u001b[38;5;28;01mimport\u001b[39;00m \u001b[38;5;21;01mpyvista\u001b[39;00m\n\u001b[1;32m     35\u001b[0m     \u001b[38;5;28;01mfrom\u001b[39;00m \u001b[38;5;21;01mpyvista\u001b[39;00m \u001b[38;5;28;01mimport\u001b[39;00m Plotter, PolyData, Line, close_all, UnstructuredGrid\n\u001b[1;32m     36\u001b[0m     \u001b[38;5;28;01mtry\u001b[39;00m:\n",
      "File \u001b[0;32m/usr/local/lib/python3.8/dist-packages/pyvista/__init__.py:10\u001b[0m\n\u001b[1;32m      7\u001b[0m \u001b[38;5;28;01mimport\u001b[39;00m \u001b[38;5;21;01mos\u001b[39;00m\n\u001b[1;32m      9\u001b[0m \u001b[38;5;28;01mfrom\u001b[39;00m \u001b[38;5;21;01mpyvista\u001b[39;00m\u001b[38;5;21;01m.\u001b[39;00m\u001b[38;5;21;01m_version\u001b[39;00m \u001b[38;5;28;01mimport\u001b[39;00m __version__\n\u001b[0;32m---> 10\u001b[0m \u001b[38;5;28;01mfrom\u001b[39;00m \u001b[38;5;21;01mpyvista\u001b[39;00m\u001b[38;5;21;01m.\u001b[39;00m\u001b[38;5;21;01mplotting\u001b[39;00m \u001b[38;5;28;01mimport\u001b[39;00m \u001b[38;5;241m*\u001b[39m\n\u001b[1;32m     11\u001b[0m \u001b[38;5;28;01mfrom\u001b[39;00m \u001b[38;5;21;01mpyvista\u001b[39;00m\u001b[38;5;21;01m.\u001b[39;00m\u001b[38;5;21;01mutilities\u001b[39;00m \u001b[38;5;28;01mimport\u001b[39;00m \u001b[38;5;241m*\u001b[39m\n\u001b[1;32m     12\u001b[0m \u001b[38;5;28;01mfrom\u001b[39;00m \u001b[38;5;21;01mpyvista\u001b[39;00m\u001b[38;5;21;01m.\u001b[39;00m\u001b[38;5;21;01mcore\u001b[39;00m \u001b[38;5;28;01mimport\u001b[39;00m \u001b[38;5;241m*\u001b[39m\n",
      "File \u001b[0;32m/usr/local/lib/python3.8/dist-packages/pyvista/plotting/__init__.py:4\u001b[0m\n\u001b[1;32m      1\u001b[0m \u001b[38;5;124;03m\"\"\"Plotting routines.\"\"\"\u001b[39;00m\n\u001b[1;32m      3\u001b[0m \u001b[38;5;28;01mfrom\u001b[39;00m \u001b[38;5;21;01mpyvista\u001b[39;00m \u001b[38;5;28;01mimport\u001b[39;00m MAX_N_COLOR_BARS\n\u001b[0;32m----> 4\u001b[0m \u001b[38;5;28;01mfrom\u001b[39;00m \u001b[38;5;21;01m.\u001b[39;00m\u001b[38;5;21;01mcharts\u001b[39;00m \u001b[38;5;28;01mimport\u001b[39;00m Chart, Chart2D, ChartMPL, ChartBox, ChartPie\n\u001b[1;32m      5\u001b[0m \u001b[38;5;28;01mfrom\u001b[39;00m \u001b[38;5;21;01m.\u001b[39;00m\u001b[38;5;21;01mcolors\u001b[39;00m \u001b[38;5;28;01mimport\u001b[39;00m (\n\u001b[1;32m      6\u001b[0m     Color,\n\u001b[1;32m      7\u001b[0m     ColorLike,\n\u001b[0;32m   (...)\u001b[0m\n\u001b[1;32m     11\u001b[0m     PARAVIEW_BACKGROUND,\n\u001b[1;32m     12\u001b[0m )\n\u001b[1;32m     13\u001b[0m \u001b[38;5;28;01mfrom\u001b[39;00m \u001b[38;5;21;01m.\u001b[39;00m\u001b[38;5;21;01mcomposite_mapper\u001b[39;00m \u001b[38;5;28;01mimport\u001b[39;00m CompositeAttributes, BlockAttributes, CompositePolyDataMapper\n",
      "File \u001b[0;32m/usr/local/lib/python3.8/dist-packages/pyvista/plotting/charts.py:14\u001b[0m\n\u001b[1;32m     11\u001b[0m \u001b[38;5;28;01mimport\u001b[39;00m \u001b[38;5;21;01mnumpy\u001b[39;00m \u001b[38;5;28;01mas\u001b[39;00m \u001b[38;5;21;01mnp\u001b[39;00m\n\u001b[1;32m     13\u001b[0m \u001b[38;5;28;01mimport\u001b[39;00m \u001b[38;5;21;01mpyvista\u001b[39;00m\n\u001b[0;32m---> 14\u001b[0m \u001b[38;5;28;01mfrom\u001b[39;00m \u001b[38;5;21;01mpyvista\u001b[39;00m \u001b[38;5;28;01mimport\u001b[39;00m _vtk\n\u001b[1;32m     16\u001b[0m \u001b[38;5;28;01mfrom\u001b[39;00m \u001b[38;5;21;01m.\u001b[39;00m\u001b[38;5;21;01m.\u001b[39;00m\u001b[38;5;21;01m_typing\u001b[39;00m \u001b[38;5;28;01mimport\u001b[39;00m Chart\n\u001b[1;32m     17\u001b[0m \u001b[38;5;28;01mfrom\u001b[39;00m \u001b[38;5;21;01m.\u001b[39;00m\u001b[38;5;21;01m.\u001b[39;00m\u001b[38;5;21;01mutilities\u001b[39;00m\u001b[38;5;21;01m.\u001b[39;00m\u001b[38;5;21;01mmisc\u001b[39;00m \u001b[38;5;28;01mimport\u001b[39;00m vtk_version_info\n",
      "File \u001b[0;32m/usr/local/lib/python3.8/dist-packages/pyvista/_vtk.py:543\u001b[0m\n\u001b[1;32m    541\u001b[0m \u001b[38;5;28;01mfrom\u001b[39;00m \u001b[38;5;21;01mvtkmodules\u001b[39;00m\u001b[38;5;21;01m.\u001b[39;00m\u001b[38;5;21;01mvtkRenderingFreeType\u001b[39;00m \u001b[38;5;28;01mimport\u001b[39;00m vtkVectorText\n\u001b[1;32m    542\u001b[0m \u001b[38;5;28;01mfrom\u001b[39;00m \u001b[38;5;21;01mvtkmodules\u001b[39;00m\u001b[38;5;21;01m.\u001b[39;00m\u001b[38;5;21;01mvtkRenderingLabel\u001b[39;00m \u001b[38;5;28;01mimport\u001b[39;00m vtkLabelPlacementMapper, vtkPointSetToLabelHierarchy\n\u001b[0;32m--> 543\u001b[0m \u001b[38;5;28;01mfrom\u001b[39;00m \u001b[38;5;21;01mvtkmodules\u001b[39;00m\u001b[38;5;21;01m.\u001b[39;00m\u001b[38;5;21;01mvtkRenderingOpenGL2\u001b[39;00m \u001b[38;5;28;01mimport\u001b[39;00m (\n\u001b[1;32m    544\u001b[0m     vtkCameraPass,\n\u001b[1;32m    545\u001b[0m     vtkCompositePolyDataMapper2,\n\u001b[1;32m    546\u001b[0m     vtkDepthOfFieldPass,\n\u001b[1;32m    547\u001b[0m     vtkEDLShading,\n\u001b[1;32m    548\u001b[0m     vtkGaussianBlurPass,\n\u001b[1;32m    549\u001b[0m     vtkOpenGLFXAAPass,\n\u001b[1;32m    550\u001b[0m     vtkOpenGLHardwareSelector,\n\u001b[1;32m    551\u001b[0m     vtkOpenGLRenderer,\n\u001b[1;32m    552\u001b[0m     vtkOpenGLTexture,\n\u001b[1;32m    553\u001b[0m     vtkRenderPassCollection,\n\u001b[1;32m    554\u001b[0m     vtkRenderStepsPass,\n\u001b[1;32m    555\u001b[0m     vtkSequencePass,\n\u001b[1;32m    556\u001b[0m     vtkShadowMapPass,\n\u001b[1;32m    557\u001b[0m     vtkSSAAPass,\n\u001b[1;32m    558\u001b[0m     vtkSSAOPass,\n\u001b[1;32m    559\u001b[0m )\n\u001b[1;32m    560\u001b[0m \u001b[38;5;28;01mfrom\u001b[39;00m \u001b[38;5;21;01mvtkmodules\u001b[39;00m\u001b[38;5;21;01m.\u001b[39;00m\u001b[38;5;21;01mvtkRenderingUI\u001b[39;00m \u001b[38;5;28;01mimport\u001b[39;00m vtkGenericRenderWindowInteractor\n\u001b[1;32m    561\u001b[0m \u001b[38;5;28;01mfrom\u001b[39;00m \u001b[38;5;21;01mvtkmodules\u001b[39;00m\u001b[38;5;21;01m.\u001b[39;00m\u001b[38;5;21;01mvtkRenderingVolume\u001b[39;00m \u001b[38;5;28;01mimport\u001b[39;00m (\n\u001b[1;32m    562\u001b[0m     vtkFixedPointVolumeRayCastMapper,\n\u001b[1;32m    563\u001b[0m     vtkGPUVolumeRayCastMapper,\n\u001b[1;32m    564\u001b[0m     vtkUnstructuredGridVolumeRayCastMapper,\n\u001b[1;32m    565\u001b[0m )\n",
      "\u001b[0;31mImportError\u001b[0m: libGL.so.1: cannot open shared object file: No such file or directory"
     ]
    }
   ],
   "source": [
    "\n",
    "import numpy as np\n",
    "import mne\n",
    "import pandas as pd\n",
    "import os\n",
    "import mne_bids\n",
    "import nibabel\n",
    "\n",
    "\n",
    "mne.viz.set_3d_backend('notebook')\n",
    "%matplotlib qt"
   ]
  },
  {
   "cell_type": "markdown",
   "id": "parental-suspension",
   "metadata": {},
   "source": [
    "### Visualization of the electrode coverage using MNE tools"
   ]
  },
  {
   "cell_type": "markdown",
   "id": "designing-breeding",
   "metadata": {},
   "source": [
    "### Specify info about the subject, recording session, datatype, acquisition, task and freesurfer reconstruction directory\n",
    "\n",
    "Most of this info can be derived from the BIDs filenames and metadata. Check https://bids-specification.readthedocs.io/en/stable/04-modality-specific-files/04-intracranial-electroencephalography.html\n",
    "\n",
    "To visualize electrode coverage on the native brain you will need to obtain freesurfer reconstruction of the native anatomy. For this, you will need to install Freesurfer (https://surfer.nmr.mgh.harvard.edu/) and run the following in the terminal, set up variables SUBJECTS_DIR and FS_HOME_DIR and run cortical reconstruction in the terminal: \n",
    "\n",
    "``` recon-all -subject sub-01  -i sub-01/ses-mri3t/anat/sub-01_ses-mri3t_run-1_T1w.nii -cw256 -all ```"
   ]
  },
  {
   "cell_type": "code",
   "execution_count": 2,
   "id": "stupid-scholar",
   "metadata": {},
   "outputs": [],
   "source": [
    "bids_dir='/Fridge/users/julia/project_chill_dataset_paper/data/BIDS2'\n",
    "subjects = mne_bids.get_entity_vals(bids_dir, 'subject')\n",
    "\n",
    "subject = '01'\n",
    "session = 'iemu'\n",
    "datatype = 'ieeg'\n",
    "task = 'film'\n",
    "acquisition = 'clinical'\n",
    "fs_dir = '/Fridge/users/julia/project_chill_dataset_paper/data/freesurfer2/sub-01'"
   ]
  },
  {
   "cell_type": "markdown",
   "id": "boring-contrast",
   "metadata": {},
   "source": [
    "### Load electrodes info"
   ]
  },
  {
   "cell_type": "code",
   "execution_count": 3,
   "id": "swiss-count",
   "metadata": {},
   "outputs": [],
   "source": [
    "electrodes_path = mne_bids.BIDSPath(subject=subject,\n",
    "                                    session=session,\n",
    "                                    suffix='electrodes',\n",
    "                                    extension='tsv',\n",
    "                                    datatype=datatype,\n",
    "                                    acquisition=acquisition,\n",
    "                                    root=bids_dir)\n",
    "electrodes = pd.read_csv(str(electrodes_path), sep='\\t', header=0, index_col=None)\n",
    "coords = electrodes[['x', 'y', 'z']].values"
   ]
  },
  {
   "cell_type": "markdown",
   "id": "unique-audio",
   "metadata": {},
   "source": [
    "### Load channels info"
   ]
  },
  {
   "cell_type": "code",
   "execution_count": 4,
   "id": "molecular-wilson",
   "metadata": {},
   "outputs": [],
   "source": [
    "channels_path = mne_bids.BIDSPath(subject=subject,\n",
    "                                    session=session,\n",
    "                                    suffix='channels',\n",
    "                                    extension='tsv',\n",
    "                                    datatype=datatype,\n",
    "                                    task=task,\n",
    "                                    acquisition=acquisition,\n",
    "                                    root=bids_dir)\n",
    "channels = pd.read_csv(str(channels_path.match()[0]), sep='\\t', header=0, index_col=None)"
   ]
  },
  {
   "cell_type": "markdown",
   "id": "stock-transmission",
   "metadata": {},
   "source": [
    "### Load iEEG data info, set channel types and drop all irrelevant channels (not iEEG)"
   ]
  },
  {
   "cell_type": "code",
   "execution_count": 5,
   "id": "complicated-spread",
   "metadata": {},
   "outputs": [
    {
     "name": "stdout",
     "output_type": "stream",
     "text": [
      "Extracting parameters from /Fridge/users/julia/project_chill_dataset_paper/data/BIDS2/sub-01/ses-iemu/ieeg/sub-01_ses-iemu_task-film_acq-clinical_run-1_ieeg.vhdr...\n",
      "Setting channel info structure...\n"
     ]
    },
    {
     "data": {
      "text/html": [
       "<table class=\"table table-hover table-striped table-sm table-responsive small\">\n",
       "    <tr>\n",
       "        <th>Measurement date</th>\n",
       "        \n",
       "        <td>January 01, 1900  00:00:00 GMT</td>\n",
       "        \n",
       "    </tr>\n",
       "    <tr>\n",
       "        <th>Experimenter</th>\n",
       "        \n",
       "        <td>Unknown</td>\n",
       "        \n",
       "    </tr>\n",
       "        <th>Participant</th>\n",
       "        \n",
       "        <td>Unknown</td>\n",
       "        \n",
       "    </tr>\n",
       "    <tr>\n",
       "        <th>Digitized points</th>\n",
       "        \n",
       "        <td>0 points</td>\n",
       "        \n",
       "    </tr>\n",
       "    <tr>\n",
       "        <th>Good channels</th>\n",
       "        <td>103 sEEG</td>\n",
       "    </tr>\n",
       "    <tr>\n",
       "        <th>Bad channels</th>\n",
       "        <td>None</td>\n",
       "    </tr>\n",
       "    <tr>\n",
       "        <th>EOG channels</th>\n",
       "        <td>Not available</td>\n",
       "    </tr>\n",
       "    <tr>\n",
       "        <th>ECG channels</th>\n",
       "        <td>Not available</td>\n",
       "    \n",
       "    <tr>\n",
       "        <th>Sampling frequency</th>\n",
       "        <td>2048.00 Hz</td>\n",
       "    </tr>\n",
       "    \n",
       "    \n",
       "    <tr>\n",
       "        <th>Highpass</th>\n",
       "        <td>0.00 Hz</td>\n",
       "    </tr>\n",
       "    \n",
       "    \n",
       "    <tr>\n",
       "        <th>Lowpass</th>\n",
       "        <td>1024.00 Hz</td>\n",
       "    </tr>\n",
       "    \n",
       "    \n",
       "    \n",
       "    <tr>\n",
       "        <th>Filenames</th>\n",
       "        <td>sub-01_ses-iemu_task-film_acq-clinical_run-1_ieeg.eeg</td>\n",
       "    </tr>\n",
       "    \n",
       "    <tr>\n",
       "        <th>Duration</th>\n",
       "        <td>00:07:00 (HH:MM:SS)</td>\n",
       "    </tr>\n",
       "</table>"
      ],
      "text/plain": [
       "<RawBrainVision | sub-01_ses-iemu_task-film_acq-clinical_run-1_ieeg.eeg, 103 x 860254 (420.0 s), ~107 kB, data not loaded>"
      ]
     },
     "execution_count": 5,
     "metadata": {},
     "output_type": "execute_result"
    }
   ],
   "source": [
    "data_path = mne_bids.BIDSPath(subject=subject,\n",
    "                                    session=session,\n",
    "                                    suffix='ieeg',\n",
    "                                    extension='vhdr',\n",
    "                                    datatype=datatype,\n",
    "                                    task=task,\n",
    "                                    acquisition=acquisition,\n",
    "                                    root=bids_dir)\n",
    "raw = mne.io.read_raw_brainvision(str(data_path.match()[0]), scale=1.0, preload=False, verbose=True)\n",
    "raw.set_channel_types({ch_name: str(x).lower()\n",
    "                if str(x).lower() in ['ecog', 'seeg'] else 'misc'\n",
    "                                for ch_name, x in zip(raw.ch_names, channels['type'].values)})\n",
    "raw.drop_channels([raw.ch_names[i] for i, j in enumerate(raw.get_channel_types()) if j == 'misc'])"
   ]
  },
  {
   "cell_type": "markdown",
   "id": "tribal-canon",
   "metadata": {},
   "source": [
    "### Transform electrode coordinate to the freesurfer RAS space to visualize them on the surface"
   ]
  },
  {
   "cell_type": "code",
   "execution_count": 6,
   "id": "tamil-serial",
   "metadata": {},
   "outputs": [
    {
     "name": "stderr",
     "output_type": "stream",
     "text": [
      "/tmp/ipykernel_3730404/702744162.py:7: RuntimeWarning: Fiducial point nasion not found, assuming identity unknown to head transformation\n",
      "  raw.set_montage(montage)\n"
     ]
    },
    {
     "data": {
      "text/html": [
       "<table class=\"table table-hover table-striped table-sm table-responsive small\">\n",
       "    <tr>\n",
       "        <th>Measurement date</th>\n",
       "        \n",
       "        <td>January 01, 1900  00:00:00 GMT</td>\n",
       "        \n",
       "    </tr>\n",
       "    <tr>\n",
       "        <th>Experimenter</th>\n",
       "        \n",
       "        <td>Unknown</td>\n",
       "        \n",
       "    </tr>\n",
       "        <th>Participant</th>\n",
       "        \n",
       "        <td>Unknown</td>\n",
       "        \n",
       "    </tr>\n",
       "    <tr>\n",
       "        <th>Digitized points</th>\n",
       "        \n",
       "        <td>0 points</td>\n",
       "        \n",
       "    </tr>\n",
       "    <tr>\n",
       "        <th>Good channels</th>\n",
       "        <td>103 sEEG</td>\n",
       "    </tr>\n",
       "    <tr>\n",
       "        <th>Bad channels</th>\n",
       "        <td>None</td>\n",
       "    </tr>\n",
       "    <tr>\n",
       "        <th>EOG channels</th>\n",
       "        <td>Not available</td>\n",
       "    </tr>\n",
       "    <tr>\n",
       "        <th>ECG channels</th>\n",
       "        <td>Not available</td>\n",
       "    \n",
       "    <tr>\n",
       "        <th>Sampling frequency</th>\n",
       "        <td>2048.00 Hz</td>\n",
       "    </tr>\n",
       "    \n",
       "    \n",
       "    <tr>\n",
       "        <th>Highpass</th>\n",
       "        <td>0.00 Hz</td>\n",
       "    </tr>\n",
       "    \n",
       "    \n",
       "    <tr>\n",
       "        <th>Lowpass</th>\n",
       "        <td>1024.00 Hz</td>\n",
       "    </tr>\n",
       "    \n",
       "    \n",
       "    \n",
       "    <tr>\n",
       "        <th>Filenames</th>\n",
       "        <td>sub-01_ses-iemu_task-film_acq-clinical_run-1_ieeg.eeg</td>\n",
       "    </tr>\n",
       "    \n",
       "    <tr>\n",
       "        <th>Duration</th>\n",
       "        <td>00:07:00 (HH:MM:SS)</td>\n",
       "    </tr>\n",
       "</table>"
      ],
      "text/plain": [
       "<RawBrainVision | sub-01_ses-iemu_task-film_acq-clinical_run-1_ieeg.eeg, 103 x 860254 (420.0 s), ~147 kB, data not loaded>"
      ]
     },
     "execution_count": 6,
     "metadata": {},
     "output_type": "execute_result"
    }
   ],
   "source": [
    "x = nibabel.load(os.path.join(fs_dir, 'mri', 'orig.mgz'))\n",
    "vox_coords = np.round(mne.transforms.apply_trans(np.linalg.inv(x.affine), coords)).astype(int)\n",
    "ras_coords = mne.transforms.apply_trans(x.header.get_vox2ras_tkr(), vox_coords)\n",
    "ras_coords = ras_coords / 1000\n",
    "\n",
    "montage = mne.channels.make_dig_montage(ch_pos=dict(zip(raw.ch_names, ras_coords)), coord_frame='mri')\n",
    "raw.set_montage(montage)"
   ]
  },
  {
   "cell_type": "markdown",
   "id": "worst-collar",
   "metadata": {},
   "source": [
    "### Visualize electrodes\n",
    "\n",
    "*By default, if SEEG channels are present, MNE will make the visualization transparent"
   ]
  },
  {
   "cell_type": "code",
   "execution_count": 8,
   "id": "eastern-geology",
   "metadata": {},
   "outputs": [
    {
     "name": "stdout",
     "output_type": "stream",
     "text": [
      "Channel types::\tseeg: 103\n"
     ]
    },
    {
     "data": {
      "application/vnd.jupyter.widget-view+json": {
       "model_id": "ac9d1c1403dc4d8abcf2a00f224cff31",
       "version_major": 2,
       "version_minor": 0
      },
      "text/plain": [
       "HBox(children=(Text(value='', layout=Layout(margin='2px 0px 2px 0px', min_width='0px'), placeholder='Type a fi…"
      ]
     },
     "metadata": {},
     "output_type": "display_data"
    },
    {
     "data": {
      "application/vnd.jupyter.widget-view+json": {
       "model_id": "fd38814bef7347af8ac53b37cb31baa4",
       "version_major": 2,
       "version_minor": 0
      },
      "text/plain": [
       "HBox(children=(ViewInteractiveWidget(height=800, layout=Layout(height='auto'), width=800),))"
      ]
     },
     "metadata": {},
     "output_type": "display_data"
    }
   ],
   "source": [
    "from packaging import version\n",
    "\n",
    "if version.parse(mne.__version__) <= version.parse('0.22.0'):\n",
    "    fig = mne.viz.plot_alignment(raw.info,\n",
    "                   subject='sub-' + subject,\n",
    "                   subjects_dir=os.path.dirname(fs_dir),\n",
    "                   surfaces=['pial'],\n",
    "                   coord_frame='mri')\n",
    "else:\n",
    "    # trans argument became mandatory\n",
    "    identity_trans = mne.transforms.Transform('head', 'mri')\n",
    "    fig = mne.viz.plot_alignment(raw.info, trans=identity_trans,\n",
    "               subject='sub-' + subject,\n",
    "               subjects_dir=os.path.dirname(fs_dir),\n",
    "               surfaces=['pial'],\n",
    "               coord_frame='mri')\n",
    "mne.viz.set_3d_view(fig, 180, 70, distance=.5)"
   ]
  }
 ],
 "metadata": {
  "kernelspec": {
   "display_name": "Python 3 (ipykernel)",
   "language": "python",
   "name": "python3"
  },
  "language_info": {
   "codemirror_mode": {
    "name": "ipython",
    "version": 3
   },
   "file_extension": ".py",
   "mimetype": "text/x-python",
   "name": "python",
   "nbconvert_exporter": "python",
   "pygments_lexer": "ipython3",
   "version": "3.8.10"
  }
 },
 "nbformat": 4,
 "nbformat_minor": 5
}
