{
 "cells": [
  {
   "cell_type": "code",
   "execution_count": null,
   "metadata": {},
   "outputs": [],
   "source": [
    "zgjknoikjoi"
   ]
  }
 ],
 "metadata": {
  "kernelspec": {
   "display_name": "Python(gpu)",
   "language": "python",
   "name": "gpu"
  },
  "language_info": {
   "name": "python",
   "version": "3.10.6"
  },
  "orig_nbformat": 4
 },
 "nbformat": 4,
 "nbformat_minor": 2
}
