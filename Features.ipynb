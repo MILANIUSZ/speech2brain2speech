{
 "cells": [
  {
   "cell_type": "code",
   "execution_count": null,
   "id": "68eb2b0b",
   "metadata": {},
   "outputs": [],
   "source": []
  },
  {
   "cell_type": "code",
   "execution_count": null,
   "id": "42a3f175",
   "metadata": {},
   "outputs": [],
   "source": []
  },
  {
   "cell_type": "code",
   "execution_count": null,
   "id": "3842d218",
   "metadata": {},
   "outputs": [],
   "source": []
  },
  {
   "cell_type": "code",
   "execution_count": null,
   "id": "57551c77",
   "metadata": {},
   "outputs": [],
   "source": [
    "event_id = {'Stimulus/speech': 1}\n",
    "tmin, tmax = -0.5, 0.5  # define the time window around the event\n",
    "epochs = mne.Epochs(raw_car, events, event_id, tmin, tmax)\n",
    "\n",
    "# Initialize empty arrays to store the data\n",
    "X = []\n",
    "y = []\n",
    "\n",
    "# Loop through each epoch and extract the corresponding segment of gamma and melspec\n",
    "for epoch in epochs:\n",
    "    start_idx = int(epoch.tmin * 48000)\n",
    "    end_idx = int(epoch.tmax * 48000)\n",
    "    gamma_segment = gamma_shifted[start_idx:end_idx]\n",
    "    melspec_segment = melSpec48[start_idx:end_idx]\n",
    "\n",
    "    # Add the segment and label to the X and y arrays\n",
    "    X.append(np.concatenate([gamma_segment, melspec_segment], axis=1))\n",
    "    y.append(epoch.events[0, 2])\n",
    "\n",
    "# Convert X and y to numpy arrays\n",
    "X = np.array(X)\n",
    "y = np.array(y)\n",
    "\n"
   ]
  }
 ],
 "metadata": {
  "kernelspec": {
   "display_name": "Python 3 (ipykernel)",
   "language": "python",
   "name": "python3"
  },
  "language_info": {
   "codemirror_mode": {
    "name": "ipython",
    "version": 3
   },
   "file_extension": ".py",
   "mimetype": "text/x-python",
   "name": "python",
   "nbconvert_exporter": "python",
   "pygments_lexer": "ipython3",
   "version": "3.8.10"
  }
 },
 "nbformat": 4,
 "nbformat_minor": 5
}
